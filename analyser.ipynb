{
 "cells": [
  {
   "cell_type": "code",
   "execution_count": 1,
   "id": "dda26092",
   "metadata": {},
   "outputs": [
    {
     "name": "stdout",
     "output_type": "stream",
     "text": [
      "Requirement already satisfied: pandas in /Users/annrach/opt/anaconda3/envs/clearml_env/lib/python3.10/site-packages (2.3.3)\n",
      "Requirement already satisfied: matplotlib in /Users/annrach/opt/anaconda3/envs/clearml_env/lib/python3.10/site-packages (3.10.7)\n",
      "Requirement already satisfied: seaborn in /Users/annrach/opt/anaconda3/envs/clearml_env/lib/python3.10/site-packages (0.13.2)\n",
      "Requirement already satisfied: numpy>=1.22.4 in /Users/annrach/opt/anaconda3/envs/clearml_env/lib/python3.10/site-packages (from pandas) (1.26.4)\n",
      "Requirement already satisfied: python-dateutil>=2.8.2 in /Users/annrach/opt/anaconda3/envs/clearml_env/lib/python3.10/site-packages (from pandas) (2.9.0.post0)\n",
      "Requirement already satisfied: pytz>=2020.1 in /Users/annrach/opt/anaconda3/envs/clearml_env/lib/python3.10/site-packages (from pandas) (2025.2)\n",
      "Requirement already satisfied: tzdata>=2022.7 in /Users/annrach/opt/anaconda3/envs/clearml_env/lib/python3.10/site-packages (from pandas) (2025.2)\n",
      "Requirement already satisfied: contourpy>=1.0.1 in /Users/annrach/opt/anaconda3/envs/clearml_env/lib/python3.10/site-packages (from matplotlib) (1.3.2)\n",
      "Requirement already satisfied: cycler>=0.10 in /Users/annrach/opt/anaconda3/envs/clearml_env/lib/python3.10/site-packages (from matplotlib) (0.12.1)\n",
      "Requirement already satisfied: fonttools>=4.22.0 in /Users/annrach/opt/anaconda3/envs/clearml_env/lib/python3.10/site-packages (from matplotlib) (4.60.1)\n",
      "Requirement already satisfied: kiwisolver>=1.3.1 in /Users/annrach/opt/anaconda3/envs/clearml_env/lib/python3.10/site-packages (from matplotlib) (1.4.9)\n",
      "Requirement already satisfied: packaging>=20.0 in /Users/annrach/opt/anaconda3/envs/clearml_env/lib/python3.10/site-packages (from matplotlib) (25.0)\n",
      "Requirement already satisfied: pillow>=8 in /Users/annrach/opt/anaconda3/envs/clearml_env/lib/python3.10/site-packages (from matplotlib) (11.3.0)\n",
      "Requirement already satisfied: pyparsing>=3 in /Users/annrach/opt/anaconda3/envs/clearml_env/lib/python3.10/site-packages (from matplotlib) (3.2.5)\n",
      "Requirement already satisfied: six>=1.5 in /Users/annrach/opt/anaconda3/envs/clearml_env/lib/python3.10/site-packages (from python-dateutil>=2.8.2->pandas) (1.17.0)\n",
      "Note: you may need to restart the kernel to use updated packages.\n"
     ]
    }
   ],
   "source": [
    "# Install libraries\n",
    "%pip install pandas matplotlib seaborn"
   ]
  },
  {
   "cell_type": "code",
   "execution_count": 2,
   "id": "775b2445",
   "metadata": {},
   "outputs": [
    {
     "name": "stdout",
     "output_type": "stream",
     "text": [
      "Libraries imported successfully!\n"
     ]
    }
   ],
   "source": [
    "# Import libraries\n",
    "import pandas as pd\n",
    "import matplotlib.pyplot as plt\n",
    "import seaborn as sns\n",
    "import sqlite3\n",
    "\n",
    "print(\"Libraries imported successfully!\")"
   ]
  },
  {
   "cell_type": "code",
   "execution_count": 15,
   "id": "3aa609bb",
   "metadata": {},
   "outputs": [
    {
     "name": "stdout",
     "output_type": "stream",
     "text": [
      "Loading data from Spotify_Dataset_V3.csv...\n",
      "Data loaded successfully!\n"
     ]
    }
   ],
   "source": [
    "# Load and Clean Data\n",
    "file_name = \"Spotify_Dataset_V3.csv\"\n",
    "\n",
    "print(f\"Loading data from {file_name}...\")\n",
    "try:\n",
    "    df = pd.read_csv(file_name, on_bad_lines='skip', sep=';')\n",
    "    print(\"Data loaded successfully!\")\n",
    "except FileNotFoundError:\n",
    "    print(f\"File {file_name} not found.\")\n",
    "    raise"
   ]
  },
  {
   "cell_type": "code",
   "execution_count": 16,
   "id": "15c472e4",
   "metadata": {},
   "outputs": [
    {
     "name": "stdout",
     "output_type": "stream",
     "text": [
      "'Rank'\n",
      "'Title'\n",
      "'Artists'\n",
      "'Date'\n",
      "'Danceability'\n",
      "'Energy'\n",
      "'Loudness'\n",
      "'Speechiness'\n",
      "'Acousticness'\n",
      "'Instrumentalness'\n",
      "'Valence'\n",
      "'# of Artist'\n",
      "'Artist (Ind.)'\n",
      "'# of Nationality'\n",
      "'Nationality'\n",
      "'Continent'\n",
      "'Points (Total)'\n",
      "'Points (Ind for each Artist/Nat)'\n",
      "'id'\n",
      "'Song URL'\n"
     ]
    }
   ],
   "source": [
    "# DEBUG cell: Checking column names\n",
    "for col in df.columns:\n",
    "    print(f\"'{col}'\")"
   ]
  },
  {
   "cell_type": "code",
   "execution_count": 17,
   "id": "fd45de05",
   "metadata": {},
   "outputs": [
    {
     "name": "stdout",
     "output_type": "stream",
     "text": [
      "Column names in the dataset:\n",
      "Index(['Rank', 'Title', 'Artists', 'Date', 'Danceability', 'Energy',\n",
      "       'Loudness', 'Speechiness', 'Acousticness', 'Instrumentalness',\n",
      "       'Valence', '# of Artist', 'Artist (Ind.)', '# of Nationality',\n",
      "       'Nationality', 'Continent', 'Points (Total)',\n",
      "       'Points (Ind for each Artist/Nat)', 'id', 'Song URL'],\n",
      "      dtype='object')\n"
     ]
    }
   ],
   "source": [
    "# Checking column names\n",
    "print(\"Column names in the dataset:\")\n",
    "print(df.columns)"
   ]
  },
  {
   "cell_type": "code",
   "execution_count": 18,
   "id": "506cb726",
   "metadata": {},
   "outputs": [
    {
     "name": "stdout",
     "output_type": "stream",
     "text": [
      "Date column cleaned successfully!\n",
      "Final column names after cleaning:\n",
      "<class 'pandas.core.frame.DataFrame'>\n",
      "RangeIndex: 651936 entries, 0 to 651935\n",
      "Data columns (total 4 columns):\n",
      " #   Column       Non-Null Count   Dtype         \n",
      "---  ------       --------------   -----         \n",
      " 0   date         651936 non-null  datetime64[ns]\n",
      " 1   main_artist  651936 non-null  object        \n",
      " 2   points       651936 non-null  int64         \n",
      " 3   title        651936 non-null  object        \n",
      "dtypes: datetime64[ns](1), int64(1), object(2)\n",
      "memory usage: 19.9+ MB\n",
      "None\n",
      "Data sample after cleaning:\n",
      "        date     main_artist  points            title\n",
      "0 2023-05-29  Eslabon Armado     200  Ella Baila Sola\n",
      "1 2023-05-29      Peso Pluma     200  Ella Baila Sola\n",
      "2 2023-05-29       Bad Bunny     199   WHERE SHE GOES\n",
      "3 2023-05-29       Yng Lvcas     198  La Bebe - Remix\n",
      "4 2023-05-29      Peso Pluma     198  La Bebe - Remix\n"
     ]
    }
   ],
   "source": [
    "# Cleanin Dates and Columns\n",
    "\n",
    "try:\n",
    "    original_date_col = 'Date' \n",
    "    date_format_str = '%d/%m/%Y'\n",
    "\n",
    "    df[original_date_col] = pd.to_datetime(df[original_date_col], \n",
    "                                    format=date_format_str, \n",
    "                                    errors='coerce')\n",
    "    \n",
    "    # Drop rows where date conversion failed\n",
    "    df.dropna(subset=[original_date_col], inplace=True)\n",
    "    print(\"Date column cleaned successfully!\")\n",
    "\n",
    "    # Renaming columns for easier access\n",
    "    df.rename(columns={\n",
    "        'Date': 'date',\n",
    "        'Artist (Ind.)': 'main_artist',\n",
    "        'Title': 'title',\n",
    "        'Points (Total)': 'points'\n",
    "    }, inplace=True)\n",
    "\n",
    "    # Final check\n",
    "    print(\"Final column names after cleaning:\")\n",
    "    print(df[['date', 'main_artist', 'points', 'title']].info())\n",
    "\n",
    "    print(\"Data sample after cleaning:\")\n",
    "    print(df[['date', 'main_artist', 'points', 'title']].head())\n",
    "\n",
    "except KeyError as e:\n",
    "    print(f\"Column not found: {e}\")\n",
    "    raise\n",
    "except Exception as e:\n",
    "    print(f\"An error occurred during data cleaning: {e}\")\n",
    "    raise"
   ]
  },
  {
   "cell_type": "code",
   "execution_count": 21,
   "id": "2d0abeb2",
   "metadata": {},
   "outputs": [
    {
     "name": "stdout",
     "output_type": "stream",
     "text": [
      "Top 10 artists by total points:\n",
      "main_artist\n",
      "Bad Bunny        2019436\n",
      "Post Malone      1295725\n",
      "Ed Sheeran       1243482\n",
      "J Balvin         1188150\n",
      "The Weeknd       1135657\n",
      "Drake            1063196\n",
      "Billie Eilish     904437\n",
      "Dua Lipa          846561\n",
      "Ozuna             798520\n",
      "Ariana Grande     731726\n",
      "Name: points, dtype: int64\n",
      "            Danceability    Energy     Loudness  Speechiness  Acousticness  \\\n",
      "date                                                                         \n",
      "2017-01-31      0.676349  0.663153 -5421.390958     0.118872      0.189034   \n",
      "2017-02-28      0.674168  0.664282 -5361.735093     0.120968      0.200604   \n",
      "2017-03-31      0.684339  0.657160 -5327.187876     0.124113      0.198529   \n",
      "2017-04-30      0.692557  0.667696 -5246.150064     0.120353      0.180898   \n",
      "2017-05-31      0.692619  0.676048 -5148.806050     0.111387      0.177832   \n",
      "\n",
      "            Instrumentalness   Valence  \n",
      "date                                    \n",
      "2017-01-31          0.007810  0.489443  \n",
      "2017-02-28          0.007461  0.484742  \n",
      "2017-03-31          0.009159  0.494761  \n",
      "2017-04-30          0.011472  0.502059  \n",
      "2017-05-31          0.005358  0.526462  \n",
      "Weekly popularity for top 10 artists:\n",
      "     main_artist       date  points\n",
      "0  Ariana Grande 2017-01-01     322\n",
      "1  Ariana Grande 2017-01-08    1984\n",
      "2  Ariana Grande 2017-01-15    1837\n",
      "3  Ariana Grande 2017-01-22    1774\n",
      "4  Ariana Grande 2017-01-29    1702\n",
      "Analysis complete.\n"
     ]
    }
   ],
   "source": [
    "# Analytics and Aggregations\n",
    "\n",
    "print(\"Top 10 artists by total points:\")\n",
    "top_artists = df.groupby('main_artist')['points'].sum().sort_values(ascending=False).head(10)\n",
    "print(top_artists)\n",
    "\n",
    "# Calculating monthly audio feature trends\n",
    "audio_features = [\n",
    "    'Danceability', \n",
    "    'Energy', \n",
    "    'Loudness', \n",
    "    'Speechiness', \n",
    "    'Acousticness', \n",
    "    'Instrumentalness', \n",
    "    'Valence'\n",
    "]\n",
    "\n",
    "# Set 'date' as the index to group by month ('ME' = Month-End)\n",
    "monthly_features = df.set_index('date')[audio_features].resample('ME').mean()\n",
    "print(monthly_features.head())\n",
    "\n",
    "# Calculating Weekly Popularity for Top 10 Artists\n",
    "print(\"Weekly popularity for top 10 artists:\")\n",
    "top_10_artist_names = top_artists.index.tolist()\n",
    "\n",
    "# Filter main DataFrame to only include those 10 artists\n",
    "df_top10 = df[df['main_artist'].isin(top_10_artist_names)]\n",
    "\n",
    "# Group by week ('W' = Week-Ending) and sum points\n",
    "weekly_top10 = df_top10.groupby([\n",
    "    'main_artist', \n",
    "    pd.Grouper(key='date', freq='W')\n",
    "])['points'].sum().reset_index()\n",
    "print(weekly_top10.head())\n",
    "\n",
    "print(\"Analysis complete.\")"
   ]
  }
 ],
 "metadata": {
  "kernelspec": {
   "display_name": "My Base Env (Python 3)",
   "language": "python",
   "name": "base"
  },
  "language_info": {
   "codemirror_mode": {
    "name": "ipython",
    "version": 3
   },
   "file_extension": ".py",
   "mimetype": "text/x-python",
   "name": "python",
   "nbconvert_exporter": "python",
   "pygments_lexer": "ipython3",
   "version": "3.10.18"
  }
 },
 "nbformat": 4,
 "nbformat_minor": 5
}
